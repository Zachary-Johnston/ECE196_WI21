{
 "cells": [
  {
   "cell_type": "markdown",
   "metadata": {
    "slideshow": {
     "slide_type": "slide"
    }
   },
   "source": [
    "# Numpy"
   ]
  },
  {
   "cell_type": "markdown",
   "metadata": {
    "slideshow": {
     "slide_type": "fragment"
    }
   },
   "source": [
    "<div class=\"alert alert-success\">\n",
    "<a href=\"https://numpy.org/doc/stable/user/whatisnumpy.html\" class=\"alert-link\">Numpy</a> is a Python library for scientific computing in Python, that provides a multidimensional array object and tools to working with these arrays efficiently. NumPy gives you an enormous range of fast and efficient ways of creating arrays and manipulating numerical data inside them.\n",
    "</div>"
   ]
  },
  {
   "cell_type": "markdown",
   "metadata": {
    "slideshow": {
     "slide_type": "fragment"
    }
   },
   "source": [
    "Read the <a href=\"https://numpy.org/devdocs/user/absolute_beginners.html\">beginner's guide on Numpy</a> and more about its detailed <a href=\"https://numpy.org/doc/stable/reference/\">documentation</a>.\n"
   ]
  },
  {
   "cell_type": "markdown",
   "metadata": {
    "slideshow": {
     "slide_type": "slide"
    }
   },
   "source": [
    "1. Numpy vs list\n",
    "2. Creating Numpy arrays\n",
    "3. Shape\n",
    "    * array shape\n",
    "    * reshape\n",
    "    * transpose\n",
    "4. Indexing and slicing\n",
    "5. Basic Numpy array operations"
   ]
  },
  {
   "cell_type": "markdown",
   "metadata": {
    "slideshow": {
     "slide_type": "slide"
    }
   },
   "source": [
    "### 1. Numpy vs list\n",
    "* **Size** - Numpy data structures take up less space\n",
    "* **Performance** - faster than lists\n",
    "* **Functionality** - Numpy have optimized functions such as linear algebra operations built in.\n",
    "\n",
    "The elements in a NumPy array are all required to be of the same data type (homogeneous).  \n",
    "Numpy arrays have specific <a href=\"https://numpy.org/devdocs/user/basics.types.html\">numpy datatypes</a>.  \n",
    "Numpy has operations that typically require nested loops in a simple list e.g. element wise operation is not possible on the list."
   ]
  },
  {
   "cell_type": "code",
   "execution_count": null,
   "metadata": {
    "slideshow": {
     "slide_type": "subslide"
    }
   },
   "outputs": [],
   "source": []
  },
  {
   "cell_type": "markdown",
   "metadata": {
    "slideshow": {
     "slide_type": "slide"
    }
   },
   "source": [
    "### 2. Creating Numpy arrays\n",
    "There are several different ways to create numpy arrays, to name a few:"
   ]
  },
  {
   "cell_type": "code",
   "execution_count": null,
   "metadata": {
    "slideshow": {
     "slide_type": "subslide"
    }
   },
   "outputs": [],
   "source": []
  },
  {
   "cell_type": "markdown",
   "metadata": {
    "slideshow": {
     "slide_type": "slide"
    }
   },
   "source": [
    "### 3. Shape\n",
    "You can use `array.ndim`, `array.size`, and `array.shape` to evaluate the shape of your numpy array.  \n",
    "You are also able to freely manipulate the shape of your array using `array.reshape(row, col)` and `array.T`.\n",
    "The shape of an array is a tuple of integers giving the size of the array along each dimension.  "
   ]
  },
  {
   "cell_type": "code",
   "execution_count": null,
   "metadata": {
    "slideshow": {
     "slide_type": "subslide"
    }
   },
   "outputs": [],
   "source": []
  },
  {
   "cell_type": "markdown",
   "metadata": {
    "slideshow": {
     "slide_type": "slide"
    }
   },
   "source": [
    "### 4. Indexing and slicing\n",
    "A new possible syntax for indexing. `[row][col] & [row,col]`  \n",
    "Slicing still follows `start:stop:step`"
   ]
  },
  {
   "cell_type": "code",
   "execution_count": null,
   "metadata": {
    "slideshow": {
     "slide_type": "subslide"
    }
   },
   "outputs": [],
   "source": []
  },
  {
   "cell_type": "markdown",
   "metadata": {
    "slideshow": {
     "slide_type": "subslide"
    }
   },
   "source": [
    "What will the following sliced array print?"
   ]
  },
  {
   "cell_type": "code",
   "execution_count": 1,
   "metadata": {
    "slideshow": {
     "slide_type": "fragment"
    }
   },
   "outputs": [
    {
     "ename": "NameError",
     "evalue": "name 'np' is not defined",
     "output_type": "error",
     "traceback": [
      "\u001b[0;31m---------------------------------------------------------------------------\u001b[0m",
      "\u001b[0;31mNameError\u001b[0m                                 Traceback (most recent call last)",
      "\u001b[0;32m<ipython-input-1-63cebf545452>\u001b[0m in \u001b[0;36m<module>\u001b[0;34m\u001b[0m\n\u001b[0;32m----> 1\u001b[0;31m \u001b[0marray\u001b[0m \u001b[0;34m=\u001b[0m \u001b[0mnp\u001b[0m\u001b[0;34m.\u001b[0m\u001b[0marange\u001b[0m\u001b[0;34m(\u001b[0m\u001b[0;36m24\u001b[0m\u001b[0;34m)\u001b[0m\u001b[0;34m.\u001b[0m\u001b[0mreshape\u001b[0m\u001b[0;34m(\u001b[0m\u001b[0;34m(\u001b[0m\u001b[0;36m6\u001b[0m\u001b[0;34m,\u001b[0m\u001b[0;36m4\u001b[0m\u001b[0;34m)\u001b[0m\u001b[0;34m)\u001b[0m\u001b[0;34m\u001b[0m\u001b[0;34m\u001b[0m\u001b[0m\n\u001b[0m\u001b[1;32m      2\u001b[0m \u001b[0msliced_array\u001b[0m \u001b[0;34m=\u001b[0m \u001b[0marray\u001b[0m\u001b[0;34m[\u001b[0m\u001b[0;36m1\u001b[0m\u001b[0;34m:\u001b[0m\u001b[0;34m:\u001b[0m\u001b[0;36m2\u001b[0m\u001b[0;34m,\u001b[0m \u001b[0;34m:\u001b[0m\u001b[0;34m-\u001b[0m\u001b[0;36m2\u001b[0m\u001b[0;34m:\u001b[0m\u001b[0;36m3\u001b[0m\u001b[0;34m]\u001b[0m\u001b[0;34m\u001b[0m\u001b[0;34m\u001b[0m\u001b[0m\n\u001b[1;32m      3\u001b[0m \u001b[0mprint\u001b[0m\u001b[0;34m(\u001b[0m\u001b[0msliced_array\u001b[0m\u001b[0;34m)\u001b[0m\u001b[0;34m\u001b[0m\u001b[0;34m\u001b[0m\u001b[0m\n",
      "\u001b[0;31mNameError\u001b[0m: name 'np' is not defined"
     ]
    }
   ],
   "source": [
    "array = np.arange(24).reshape((6,4))\n",
    "sliced_array = array[1::2, :-2:3]\n",
    "print(sliced_array)"
   ]
  },
  {
   "cell_type": "markdown",
   "metadata": {},
   "source": [
    "### 5. Basic Numpy array operations\n",
    "Numpy allows for easier <a href=\"https://numpy.org/doc/stable/reference/routines.math.html\" class=\"alert-link\">mathematical operations</a>.\n",
    "Some operations are overloaded as both operators and functions. Say x and y are both numpy arrays, we can perform the following:\n",
    "```python\n",
    "x + y == np.add(x, y)\n",
    "x - y == np.subtract(x, y)\n",
    "x / y == np.divide(x, y)\n",
    "x * y == np.multiply(x, y)\n",
    "x.dot(y) == np.dot(x, y)\n",
    "np.sqrt(x)\n",
    "np.square(x)\n",
    "```\n",
    "Numpy broadcasting lets us to perform operations on arrays of different sizes. Read more on <a href=\"https://numpy.org/doc/stable/user/basics.broadcasting.html\">broadcasting documentation</a>.  \n",
    "A lot of these operations have the option to specify the axis, read more about <a href=\"https://www.sharpsightlabs.com/blog/numpy-axes-explained/#:~:text=In%20any%20Python%20sequence%20%E2%80%93%20like,1%2C%E2%80%9D%20and%20so%20on.\">Numpy axes</a>."
   ]
  },
  {
   "cell_type": "markdown",
   "metadata": {},
   "source": [
    "<center><img src=\"../media/dot_product.png\" width=\"500px\"></center>"
   ]
  },
  {
   "cell_type": "code",
   "execution_count": null,
   "metadata": {},
   "outputs": [],
   "source": []
  },
  {
   "cell_type": "code",
   "execution_count": null,
   "metadata": {},
   "outputs": [],
   "source": []
  },
  {
   "cell_type": "code",
   "execution_count": null,
   "metadata": {},
   "outputs": [],
   "source": []
  },
  {
   "cell_type": "code",
   "execution_count": null,
   "metadata": {},
   "outputs": [],
   "source": []
  },
  {
   "cell_type": "markdown",
   "metadata": {},
   "source": [
    "<a href=\"https://numpy.org/doc/stable/reference/generated/numpy.sum.html\">sum</a>  \n",
    "`numpy.sum()` adds up all the values in your array or in a specified direction of your array."
   ]
  },
  {
   "cell_type": "code",
   "execution_count": null,
   "metadata": {},
   "outputs": [],
   "source": []
  },
  {
   "cell_type": "markdown",
   "metadata": {},
   "source": [
    "<a href = \"https://numpy.org/doc/stable/reference/generated/numpy.sort.html\">sort</a>  \n",
    "`numpy.sort()` sorts all values in your array or in a specified direction of your array."
   ]
  },
  {
   "cell_type": "code",
   "execution_count": null,
   "metadata": {},
   "outputs": [],
   "source": []
  },
  {
   "cell_type": "markdown",
   "metadata": {},
   "source": [
    "<a href = \"https://numpy.org/doc/stable/reference/generated/numpy.unique.html\">unique</a>  \n",
    "`numpy.unique()` finds the unique values in your array and return them in a sorted array"
   ]
  },
  {
   "cell_type": "code",
   "execution_count": null,
   "metadata": {},
   "outputs": [],
   "source": []
  },
  {
   "cell_type": "markdown",
   "metadata": {},
   "source": [
    "<a href = \"https://numpy.org/doc/stable/reference/generated/numpy.amax.html\">amax</a> & <a href = \"https://numpy.org/doc/stable/reference/generated/numpy.amin.html\">amin</a>  \n",
    "<a href = \"https://numpy.org/doc/stable/reference/generated/numpy.argmax.html\">argmax</a> & <a href = \"https://numpy.org/doc/stable/reference/generated/numpy.argmin.html\">argmin</a>  \n",
    "`numpy.amax()` and `numpy.amin()` find the first max and min value in your array.  \n",
    "`numpy.argmax()` and `numpy.argmin()` find the index of the first max and min value in your array.  "
   ]
  },
  {
   "cell_type": "code",
   "execution_count": null,
   "metadata": {},
   "outputs": [],
   "source": []
  },
  {
   "cell_type": "markdown",
   "metadata": {},
   "source": [
    "<a href = \"https://numpy.org/doc/stable/reference/generated/numpy.ndarray.flatten.html\">flatten</a> & <a href =\"https://numpy.org/doc/stable/reference/generated/numpy.ravel.html#numpy.ravel\">ravel</a>  \n",
    "`numpy.ndarray.flatten` returns a copy of the array flattened into a 1D array.  \n",
    "`numpy.ravel` returns a contiguous flattened 1D array.  \n",
    "The difference is that `flatten` **makes a copy** of the original array, so modifying flattened array doesn't change the original array."
   ]
  },
  {
   "cell_type": "code",
   "execution_count": null,
   "metadata": {},
   "outputs": [],
   "source": []
  }
 ],
 "metadata": {
  "celltoolbar": "Slideshow",
  "kernelspec": {
   "display_name": "Python 3",
   "language": "python",
   "name": "python3"
  },
  "language_info": {
   "codemirror_mode": {
    "name": "ipython",
    "version": 3
   },
   "file_extension": ".py",
   "mimetype": "text/x-python",
   "name": "python",
   "nbconvert_exporter": "python",
   "pygments_lexer": "ipython3",
   "version": "3.7.2"
  }
 },
 "nbformat": 4,
 "nbformat_minor": 2
}
