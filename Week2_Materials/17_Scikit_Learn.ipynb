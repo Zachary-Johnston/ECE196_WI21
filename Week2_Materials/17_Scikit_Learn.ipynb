{
 "cells": [
  {
   "cell_type": "markdown",
   "metadata": {},
   "source": [
    "## Sci-Kit Learn"
   ]
  },
  {
   "cell_type": "markdown",
   "metadata": {},
   "source": [
    "<div class=\"alert alert-success\">\n",
    "<a href=\"https://scikit-learn.org/stable/index.html\" class=\"alert-link\">Scikit-Learn</a> is a Python library that provides simple tools for data analysis, including most machine learning algorithms.\n",
    "</div>"
   ]
  },
  {
   "cell_type": "markdown",
   "metadata": {},
   "source": [
    "<center><img src=\"../media/ml_map.png\" width=\"1200px\"></center>"
   ]
  },
  {
   "cell_type": "markdown",
   "metadata": {},
   "source": [
    "1. Encode  \n",
    "2. Fit  \n",
    "3. Predict  \n",
    "4. Score  "
   ]
  },
  {
   "cell_type": "markdown",
   "metadata": {},
   "source": [
    "#### 1. Encode\n",
    "We typically don't want strings in our data when training for ML.  \n",
    "Yes we can use the pandas `pd.replace` method to change categorical data into numerical data, but it's annoying to keep track and change them back.  \n",
    "Scikit-Learn provides an encoder and decoder for pre and post processing, `preprocessing.LabelEncoder()`  \n",
    "`transform` categories to numerical values and `inverse_transform` back to the original labels."
   ]
  },
  {
   "cell_type": "code",
   "execution_count": null,
   "metadata": {},
   "outputs": [],
   "source": []
  },
  {
   "cell_type": "code",
   "execution_count": null,
   "metadata": {},
   "outputs": [],
   "source": []
  },
  {
   "cell_type": "code",
   "execution_count": null,
   "metadata": {},
   "outputs": [],
   "source": []
  },
  {
   "cell_type": "markdown",
   "metadata": {},
   "source": [
    "#### 2. Fit\n",
    "In order for the classifier to learn our data, the data must first be \"fitted\" to the model.  \n",
    "The process trains the model on the data.  \n",
    "`clf.fit(X, y)`"
   ]
  },
  {
   "cell_type": "code",
   "execution_count": null,
   "metadata": {},
   "outputs": [],
   "source": []
  },
  {
   "cell_type": "markdown",
   "metadata": {},
   "source": [
    "#### 3. Predict\n",
    "After our data is fitted, we can use the trained classifier to predict the results.  \n",
    "Will return an array of predicted classes.  \n",
    "`clf.predict(Y)`  "
   ]
  },
  {
   "cell_type": "code",
   "execution_count": null,
   "metadata": {},
   "outputs": [],
   "source": []
  },
  {
   "cell_type": "code",
   "execution_count": null,
   "metadata": {},
   "outputs": [],
   "source": []
  },
  {
   "cell_type": "markdown",
   "metadata": {},
   "source": [
    "#### 4. Score\n",
    "Returns the accuracy of the model.  \n",
    "Essentially is the mean accuracy of the predicted values with respect to the truth values.  \n",
    "Very important because we want to compare the training accuracy and testing accuracy, and obtaining good testing accuracy is the one of the main objectives in ML.  \n",
    "`clf.score(X, y)`"
   ]
  },
  {
   "cell_type": "code",
   "execution_count": null,
   "metadata": {},
   "outputs": [],
   "source": []
  },
  {
   "cell_type": "code",
   "execution_count": null,
   "metadata": {},
   "outputs": [],
   "source": []
  }
 ],
 "metadata": {
  "kernelspec": {
   "display_name": "Python 3",
   "language": "python",
   "name": "python3"
  },
  "language_info": {
   "codemirror_mode": {
    "name": "ipython",
    "version": 3
   },
   "file_extension": ".py",
   "mimetype": "text/x-python",
   "name": "python",
   "nbconvert_exporter": "python",
   "pygments_lexer": "ipython3",
   "version": "3.7.2"
  }
 },
 "nbformat": 4,
 "nbformat_minor": 2
}
